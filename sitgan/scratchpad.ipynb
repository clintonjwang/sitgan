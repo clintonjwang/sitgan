{
 "cells": [
  {
   "cell_type": "code",
   "execution_count": 1,
   "id": "e8a698ee",
   "metadata": {
    "code_folding": []
   },
   "outputs": [],
   "source": [
    "# imports\n",
    "import numpy as np\n",
    "import pandas as pd\n",
    "import os, yaml\n",
    "osp = os.path\n",
    "from glob import glob\n",
    "from importlib import reload\n",
    "import matplotlib.pyplot as plt\n",
    "from pathlib import Path\n",
    "import dill as pickle\n",
    "\n",
    "import torch\n",
    "nn = torch.nn\n",
    "F = nn.functional\n",
    "%matplotlib inline\n",
    "plt.rcParams[\"figure.figsize\"] = (10.0, 8.0)\n",
    "plt.rcParams['figure.dpi'] = 300"
   ]
  },
  {
   "cell_type": "code",
   "execution_count": null,
   "id": "dc5f3855",
   "metadata": {
    "code_folding": [
     0
    ]
   },
   "outputs": [],
   "source": [
    "# amadeus\n",
    "directories_path=\"/data/vision/polina/users/clintonw/code/amadeus/config/main_paths.yaml\"\n",
    "import sys\n",
    "for m in list(sys.modules.keys()):\n",
    "    if m.startswith(\"am.\"):\n",
    "        del(sys.modules[m])\n",
    "import am.core.main\n",
    "A = am.core.main.Nestor(directories_path, module_load=\"full\")"
   ]
  },
  {
   "cell_type": "code",
   "execution_count": 2,
   "id": "fadd627c",
   "metadata": {},
   "outputs": [],
   "source": [
    "import args as args_module\n",
    "from data import dataloader, transforms, adni\n",
    "from analysis import analyze, inception, tables, figures\n",
    "import jobs as job_mgmt\n",
    "import util\n",
    "import monai.transforms as mtr\n",
    "rescale_clip = mtr.ScaleIntensityRangePercentiles(lower=1, upper=99, b_min=0, b_max=255, clip=True, dtype=np.uint8)\n",
    "rescale_noclip = mtr.ScaleIntensity(minv=0, maxv=255, dtype=np.uint8)\n",
    "ANALYSIS_DIR = osp.expanduser(\"~/code/sitgan/analysis\")"
   ]
  },
  {
   "cell_type": "code",
   "execution_count": 32,
   "id": "44bdc46f",
   "metadata": {},
   "outputs": [],
   "source": [
    "reload(figures);"
   ]
  },
  {
   "cell_type": "code",
   "execution_count": null,
   "id": "48b8a73b",
   "metadata": {},
   "outputs": [],
   "source": [
    "df = tables.get_results_table()\n",
    "adni_jobs = df[df[\"dataset\"] == \"2D ADNI T1\"].index.values"
   ]
  },
  {
   "cell_type": "code",
   "execution_count": null,
   "id": "4ac6b5a4",
   "metadata": {},
   "outputs": [],
   "source": [
    "figures.save_adni_trajectories()\n",
    "figures.save_mrigenie_age_extrapolations()"
   ]
  },
  {
   "cell_type": "code",
   "execution_count": 10,
   "id": "ad98ea7e",
   "metadata": {},
   "outputs": [],
   "source": [
    "job_mgmt.delete_job(\"failed_raw_a_cvae\")\n",
    "#job_mgmt.rename_job(\"raw_a_cvae\", \"failed_raw_a_cvae\")"
   ]
  },
  {
   "cell_type": "code",
   "execution_count": null,
   "id": "d62ce5ff",
   "metadata": {},
   "outputs": [],
   "source": [
    "figures.save_sample_outputs_for_job(\"dit_m_star\", slurm=True)#overwrite=True"
   ]
  },
  {
   "cell_type": "code",
   "execution_count": null,
   "id": "f9c97aea",
   "metadata": {},
   "outputs": [],
   "source": [
    "analyze.get_image_matching_metrics_for_jobs(adni_jobs, slurm=True)"
   ]
  },
  {
   "cell_type": "code",
   "execution_count": null,
   "id": "125f7871",
   "metadata": {},
   "outputs": [],
   "source": [
    "df = tables.get_results_table()"
   ]
  },
  {
   "cell_type": "code",
   "execution_count": null,
   "id": "5b682d88",
   "metadata": {},
   "outputs": [],
   "source": [
    "tables.save_results_table(df)"
   ]
  },
  {
   "cell_type": "code",
   "execution_count": null,
   "id": "e9256a1f",
   "metadata": {},
   "outputs": [],
   "source": [
    "df.drop(\"res4G\", inplace=True)"
   ]
  },
  {
   "cell_type": "code",
   "execution_count": null,
   "id": "47464d13",
   "metadata": {},
   "outputs": [],
   "source": [
    "ages = [dp[\"attributes\"][0] for dp in val_datalist]\n",
    "ages = np.array(ages) * age_std + age_mean\n",
    "plt.hist(ages)"
   ]
  },
  {
   "cell_type": "code",
   "execution_count": null,
   "id": "47623553",
   "metadata": {},
   "outputs": [],
   "source": [
    "tables.print_missing_model_types()"
   ]
  },
  {
   "cell_type": "code",
   "execution_count": null,
   "id": "e1fe6880",
   "metadata": {},
   "outputs": [],
   "source": [
    "print(df[(df[\"model type\"] == \"CVAE\") & (\n",
    "df[\"G outputs\"] == \"\")].index.values)"
   ]
  },
  {
   "cell_type": "code",
   "execution_count": 8,
   "id": "683bc91e",
   "metadata": {
    "scrolled": true
   },
   "outputs": [],
   "source": [
    "for f in util.glob2(\"~/code/sitgan/analysis/traj_figs/sit_a_cvae_*\"):\n",
    "    os.rename(f, f.replace(\"sit_a_cvae_\", \"sit_a_cvae/\"))"
   ]
  },
  {
   "cell_type": "code",
   "execution_count": 21,
   "id": "41b2011a",
   "metadata": {},
   "outputs": [],
   "source": [
    "plt.rcParams[\"figure.figsize\"] = (20.0, 16.0)\n",
    "jobs = [\"dit_a_star\", \"sit_a_star\"]\n",
    "subject_id = \"133_S_0727\"\n",
    "imgs = figures.compile_trajectory_for_jobs_and_subject(jobs, subject_id)\n",
    "plt.imshow(imgs); plt.axis('off');"
   ]
  },
  {
   "cell_type": "code",
   "execution_count": 25,
   "id": "0a01ffcf",
   "metadata": {},
   "outputs": [],
   "source": [
    "out = pickle.load(open(osp.expanduser(\n",
    "    \"~/code/sitgan/analysis/slurm/mrig_traj/89049_submitted.pkl\"), \"rb\"))"
   ]
  },
  {
   "cell_type": "code",
   "execution_count": null,
   "id": "351e1676",
   "metadata": {},
   "outputs": [],
   "source": [
    "jobs = [\"dit_m_star\", \"sit_m_star\"]\n",
    "subject_id = \"\"\n",
    "imgs = figures.compile_trajectory_for_jobs_and_subject(jobs, subject_id)\n",
    "plt.imshow(imgs); plt.axis('off');"
   ]
  },
  {
   "cell_type": "code",
   "execution_count": null,
   "id": "3979d7d4",
   "metadata": {},
   "outputs": [],
   "source": [
    "analyze.collect_all_missing_job_metrics()"
   ]
  },
  {
   "cell_type": "code",
   "execution_count": null,
   "id": "049d0ad6",
   "metadata": {},
   "outputs": [],
   "source": [
    "compile_trajectory_for_jobs_and_subject"
   ]
  },
  {
   "cell_type": "code",
   "execution_count": 4,
   "id": "a24e4106",
   "metadata": {},
   "outputs": [],
   "source": [
    "analyze.collect_metrics_for_jobs(\"st_m_star\", slurm=True)"
   ]
  },
  {
   "cell_type": "code",
   "execution_count": 29,
   "id": "4f8e24a6",
   "metadata": {},
   "outputs": [],
   "source": [
    "args = job_mgmt.get_job_args(\"dit_m_star\")"
   ]
  },
  {
   "cell_type": "code",
   "execution_count": null,
   "id": "628a6fd5",
   "metadata": {},
   "outputs": [],
   "source": [
    "#args = args_module.args_from_file(osp.expanduser(\"~/code/sitgan/configs/adni.yaml\"))\n",
    "#dataloader.get_dataloaders(args, overwrite=True)"
   ]
  },
  {
   "cell_type": "code",
   "execution_count": null,
   "id": "a90881cf",
   "metadata": {},
   "outputs": [],
   "source": [
    "inception.fine_tune_regressor_on_dataset(\"2D ADNI T1\", slurm=True)"
   ]
  },
  {
   "cell_type": "code",
   "execution_count": null,
   "id": "7420debe",
   "metadata": {},
   "outputs": [],
   "source": [
    "args = args_module.args_from_file(osp.expanduser(\"~/code/sitgan/configs/sit_mrig.yaml\"))\n",
    "dataloaders = dataloader.get_dataloaders(args)\n",
    "#dataloaders = dataloader.get_dataloaders_for_dataset(\"2D MRI-GENIE FLAIR\")"
   ]
  },
  {
   "cell_type": "code",
   "execution_count": null,
   "id": "745888e0",
   "metadata": {},
   "outputs": [],
   "source": [
    "batch = analyze.get_sample_batch(job=\"manual00\", phase=\"val\")"
   ]
  },
  {
   "cell_type": "code",
   "execution_count": null,
   "id": "b7337827",
   "metadata": {},
   "outputs": [],
   "source": [
    "torch.randn(1,4,6,3).tile(5,1,1,1).shape"
   ]
  },
  {
   "cell_type": "code",
   "execution_count": null,
   "id": "bae360cf",
   "metadata": {},
   "outputs": [],
   "source": [
    "img = batch[\"image\"][0,0].float()"
   ]
  },
  {
   "cell_type": "code",
   "execution_count": null,
   "id": "51de90c6",
   "metadata": {},
   "outputs": [],
   "source": [
    "val_dir = osp.join(data_root, paths[\"MRI-GENIE\"][\"3D npy subdir\"])"
   ]
  },
  {
   "cell_type": "code",
   "execution_count": null,
   "id": "11591555",
   "metadata": {},
   "outputs": [],
   "source": [
    "path = data_dir+\"/006_AX_FLAIR_T2_400000487.nii\""
   ]
  },
  {
   "cell_type": "code",
   "execution_count": null,
   "id": "295e39ae",
   "metadata": {},
   "outputs": [],
   "source": [
    "paths = glob(data_dir+\"/*\")"
   ]
  },
  {
   "cell_type": "code",
   "execution_count": null,
   "id": "f9d7d39e",
   "metadata": {},
   "outputs": [],
   "source": [
    "data_dir = \"/data/vision/polina/scratch/clintonw/datasets/MRI-GENIE/mrigenie_flair/nii_to_npy\"\n",
    "path = data_dir+\"/701_STROKE_FLAIR_AX_TRA_TIR_6000_100_90_0_100000485.npy\"\n",
    "img = np.load(path)"
   ]
  },
  {
   "cell_type": "code",
   "execution_count": null,
   "id": "685b6c61",
   "metadata": {},
   "outputs": [],
   "source": [
    "path = \"/data/vision/polina/projects/wmh/clintonw/raw_data/dcm/21/2100009092/000_FLAIR_TRA_SENSE_0\""
   ]
  },
  {
   "cell_type": "markdown",
   "id": "4a8a7bcc",
   "metadata": {
    "heading_collapsed": true
   },
   "source": [
    "#### rewrite dataset.bin"
   ]
  },
  {
   "cell_type": "code",
   "execution_count": null,
   "id": "22b17d68",
   "metadata": {
    "hidden": true
   },
   "outputs": [],
   "source": [
    "paths[\"GASROS\"][\"2D npy subdir\"]"
   ]
  },
  {
   "cell_type": "code",
   "execution_count": null,
   "id": "77d520f3",
   "metadata": {
    "hidden": true
   },
   "outputs": [],
   "source": [
    "data_dir = \"/data/vision/polina/scratch/clintonw/datasets/ADNI/2d_t1\"\n",
    "dataset = pickle.load(open(data_dir+\"/dataset.bin\", \"rb\"))"
   ]
  },
  {
   "cell_type": "code",
   "execution_count": null,
   "id": "ff31a554",
   "metadata": {
    "hidden": true
   },
   "outputs": [],
   "source": [
    "pickle.dump(new_dps, open(data_dir+\"/dataset.bin\", \"wb\"))"
   ]
  },
  {
   "cell_type": "code",
   "execution_count": null,
   "id": "b0d97fe8",
   "metadata": {
    "hidden": true
   },
   "outputs": [],
   "source": [
    "dps = dataset[\"datapoints\"]"
   ]
  },
  {
   "cell_type": "code",
   "execution_count": null,
   "id": "6d541b1f",
   "metadata": {
    "hidden": true
   },
   "outputs": [],
   "source": [
    "pathsss = glob(\"/data/vision/polina/scratch/clintonw/amadeus/tmp/backups/ds_instance*\")"
   ]
  },
  {
   "cell_type": "code",
   "execution_count": null,
   "id": "b4877a93",
   "metadata": {
    "hidden": true
   },
   "outputs": [],
   "source": [
    "ix += 1\n",
    "path =pathsss[ix]\n",
    "dataset = pickle.load(open(path, \"rb\"))\n",
    "print(dataset[\"name\"])"
   ]
  },
  {
   "cell_type": "code",
   "execution_count": null,
   "id": "e769925d",
   "metadata": {
    "code_folding": [
     1
    ],
    "hidden": true
   },
   "outputs": [],
   "source": [
    "for dp in new_dps:\n",
    "    if not osp.exists(data_dir+\"/\"+dp[\"ID\"]+\".npy\"):\n",
    "        print(dp)"
   ]
  },
  {
   "cell_type": "code",
   "execution_count": null,
   "id": "91644eff",
   "metadata": {
    "code_folding": [],
    "hidden": true
   },
   "outputs": [],
   "source": [
    "new_dps = []\n",
    "for dp in dps:\n",
    "    props = dp.properties\n",
    "    props.pop(\"time instantiated\", None)\n",
    "    props.pop(\"time last seen\", None)\n",
    "    props.pop(\"time last modified\", None)\n",
    "    props.pop(\"originating actions\", None)\n",
    "    #props[\"observations\"][\"age\"] = props[\"observations\"][\"Age\"]\n",
    "    if \"estimates\" not in props:\n",
    "        pass\n",
    "    elif len(props[\"estimates\"]) == 0:\n",
    "        props.pop(\"estimates\", None)\n",
    "    else:\n",
    "        print(dp[\"name\"])\n",
    "    if \"pipeline history\" not in props:\n",
    "        pass\n",
    "    elif len(props[\"pipeline history\"]) == 0:\n",
    "        props.pop(\"pipeline history\", None)\n",
    "    else:\n",
    "        print(dp[\"name\"])\n",
    "    new_dp = {\"ID\": dp[\"name\"], **props}\n",
    "    new_dps.append(new_dp)"
   ]
  },
  {
   "cell_type": "code",
   "execution_count": null,
   "id": "1ae4204c",
   "metadata": {
    "hidden": true
   },
   "outputs": [],
   "source": [
    "path = osp.expanduser(\"~/code/sitgan/configs/mrigenie.yaml\")\n",
    "yaml.dump(paths, open(path, \"w\"))"
   ]
  },
  {
   "cell_type": "code",
   "execution_count": null,
   "id": "64e2b2c6",
   "metadata": {
    "hidden": true
   },
   "outputs": [],
   "source": [
    "paths[\"full MRI-GENIE\"] = osp.join(paths[\"MRI-GENIE dataset folder\"], \"full_mri-genie/ds_instance.bin\")"
   ]
  },
  {
   "cell_type": "code",
   "execution_count": null,
   "id": "92ba79b6",
   "metadata": {
    "hidden": true
   },
   "outputs": [],
   "source": [
    "path = osp.join(paths[\"MRI-GENIE dataset folder\"], \"2d_mri-genie_flair\", \"ds_instance.bin\")\n",
    "out = pickle.load(open(path, \"rb\"))"
   ]
  },
  {
   "cell_type": "code",
   "execution_count": null,
   "id": "c32acd5a",
   "metadata": {
    "hidden": true
   },
   "outputs": [],
   "source": [
    "ds = {k:out[k] for k in [\"datapoints\", \"variables\", \"root folder\", \"training indices\", \"validation indices\"]}"
   ]
  },
  {
   "cell_type": "code",
   "execution_count": null,
   "id": "6872892e",
   "metadata": {
    "hidden": true
   },
   "outputs": [],
   "source": [
    "dps = []\n",
    "for dp in out[\"datapoints\"]:\n",
    "    dp[\"path\"] = out[\"base image path\"](dp)\n",
    "    dps.append({k:dp[k] for k in [\"path\", \"SiGN ID\", \"Porpoise ID\", \"GASROS ID\", \"clinical site\", \"sequence name\", \"observations\", \"slice number\", \"total slices\"]})"
   ]
  },
  {
   "cell_type": "code",
   "execution_count": null,
   "id": "470993bc",
   "metadata": {
    "hidden": true
   },
   "outputs": [],
   "source": [
    "ds[\"datapoints\"] = dps"
   ]
  },
  {
   "cell_type": "code",
   "execution_count": null,
   "id": "9d2e1309",
   "metadata": {
    "hidden": true
   },
   "outputs": [],
   "source": [
    "with open(osp.join(paths[\"MRI-GENIE dataset folder\"], \"2d_mri-genie_flair.ds\"), \"wb\") as f:\n",
    "    pickle.dump(ds, f)"
   ]
  },
  {
   "cell_type": "markdown",
   "id": "e3490951",
   "metadata": {
    "heading_collapsed": true
   },
   "source": [
    "### Identify artifacts"
   ]
  },
  {
   "cell_type": "code",
   "execution_count": null,
   "id": "f19030bf",
   "metadata": {
    "hidden": true
   },
   "outputs": [],
   "source": [
    "# flip\n",
    "# 002_AXIAL_FLAIR_400001271, 003_FLAIR_AX_0_600057300,\n",
    "# 004_AXIAL_FLAIR_400001409, 009_AX_FLAIR_T2_400001742,\n",
    "# 009_AX_T2_FLAIR_PROPELLER_0_400001882,\n",
    "\n",
    "# delete:\n",
    "# 003_HUVUD_FLAIR_TRANS_0_1900000003, 003_HUVUD_FLAIR_TRANS_0_1900000007,\n",
    "# 003_HUVUD_FLAIR_TRANS_0_1900000017, 003_flair_T2_TIRM_TRA_DARK_FLUID_0_1800000035,\n",
    "# 003_flair_T2_TIRM_TRA_DARK_FLUID_0_1800000456,\n",
    "# 003_flair_T2_TIRM_TRA_DARK_FLUID_RS_0_1800000559,\n",
    "# 004_AXIAL_FLAIR_400001188, 004_FLAIR_TRA_P2_1_1600000004_7\n",
    "# 004_HUVUD_FLAIR_TRANS_0_1900000011, 005_AXIAL_FLAIR_0_100000291,\n",
    "# 005_AX_FLAIR_T2_0_2000000721, 005_AX_FLAIR_T2_400001858,\n",
    "# 005_EP2D_TRA_DARK_FLUIDFLAIR_0_100000038, 005_HUVUD_FLAIR_TRANS_0_1900000418,\n",
    "# 005_T2_FLAIR_TRA_0_2300000094, 006_AX_FLAIR_T2_400001727,\n",
    "# 007_AX_FLAIR_T2_400000055, 010_FLAIR_FSE_8_AXIAL_0_600051530,\n",
    "# 012_T2_FLAIR_TRA_0_2300000687, 701_FLAIR_TRA_0_600058080,"
   ]
  },
  {
   "cell_type": "code",
   "execution_count": null,
   "id": "53fbe3e6",
   "metadata": {
    "hidden": true
   },
   "outputs": [],
   "source": [
    "paths[\"full MRI-GENIE\"] = osp.join(paths[\"MRI-GENIE dataset folder\"], \"full_mri-genie.bin\")"
   ]
  },
  {
   "cell_type": "code",
   "execution_count": null,
   "id": "0559a2ec",
   "metadata": {
    "hidden": true
   },
   "outputs": [],
   "source": [
    "for dp in ds[\"datapoints\"]:\n",
    "    if dp[\"slice number\"] == 7:\n",
    "        img = np.load(dp[\"path\"])\n",
    "        plt.imsave(osp.join(paths['HOME'], \"downloads\", \"flairs\",\n",
    "                    osp.basename(dp[\"path\"])[:-4])+\".png\", img, cmap=\"gray\")"
   ]
  },
  {
   "cell_type": "code",
   "execution_count": null,
   "id": "3843b702",
   "metadata": {
    "hidden": true
   },
   "outputs": [],
   "source": [
    "osp.basename(dp[\"path\"])[:-4]"
   ]
  },
  {
   "cell_type": "code",
   "execution_count": null,
   "id": "ccbd059f",
   "metadata": {
    "hidden": true
   },
   "outputs": [],
   "source": [
    "plt.imshow(img, cmap=\"gray\"); plt.axis('off');"
   ]
  },
  {
   "cell_type": "code",
   "execution_count": null,
   "id": "6776c2ce",
   "metadata": {
    "hidden": true
   },
   "outputs": [],
   "source": [
    "img_paths = sorted(glob.glob(osp.join(paths['HOME'], \"downloads/flairs/*\")))\n",
    "ix = -1"
   ]
  },
  {
   "cell_type": "code",
   "execution_count": null,
   "id": "89c0db41",
   "metadata": {
    "hidden": true
   },
   "outputs": [],
   "source": [
    "ix-=4"
   ]
  },
  {
   "cell_type": "code",
   "execution_count": null,
   "id": "5ecb4e06",
   "metadata": {
    "hidden": true
   },
   "outputs": [],
   "source": [
    "ix += 1\n",
    "path = img_paths[ix]\n",
    "img1 = plt.imread(path)\n",
    "ix += 1\n",
    "path = img_paths[ix]\n",
    "img2 = plt.imread(path)\n",
    "ix += 1\n",
    "path = img_paths[ix]\n",
    "img3 = plt.imread(path)\n",
    "img = np.concatenate((img1, img2, img3), axis=1)\n",
    "plt.imshow(img, cmap=\"gray\"); plt.axis('off');"
   ]
  },
  {
   "cell_type": "code",
   "execution_count": null,
   "id": "dd2bd6fa",
   "metadata": {
    "hidden": true
   },
   "outputs": [],
   "source": []
  },
  {
   "cell_type": "code",
   "execution_count": null,
   "id": "00094bad",
   "metadata": {
    "hidden": true
   },
   "outputs": [],
   "source": [
    "img_paths[ix-2]"
   ]
  },
  {
   "cell_type": "code",
   "execution_count": null,
   "id": "60891306",
   "metadata": {
    "hidden": true
   },
   "outputs": [],
   "source": [
    "plt.imshow(img1, cmap=\"gray\"); plt.axis('off');"
   ]
  }
 ],
 "metadata": {
  "kernelspec": {
   "display_name": "Python 3 (ipykernel)",
   "language": "python",
   "name": "python3"
  },
  "language_info": {
   "codemirror_mode": {
    "name": "ipython",
    "version": 3
   },
   "file_extension": ".py",
   "mimetype": "text/x-python",
   "name": "python",
   "nbconvert_exporter": "python",
   "pygments_lexer": "ipython3",
   "version": "3.9.7"
  }
 },
 "nbformat": 4,
 "nbformat_minor": 5
}
